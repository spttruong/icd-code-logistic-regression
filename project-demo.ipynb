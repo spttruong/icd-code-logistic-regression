{
 "cells": [
  {
   "cell_type": "markdown",
   "metadata": {},
   "source": [
    "# Objective\n",
    "**Goal:** The goal for this project is to use machine learning to predict the most likely co-morbidities, given a set of medical data. In this instance, we will target leukemia and identify its co-morbidities.\n",
    "\n",
    "Dataset: MIMIC-IV is the fourth iteration of the MIMIC medical health data repository of over 40,000 patients admitted to the Beth Israel Deaconess Medical Center (BIDMC). It was completely de-identified as of MIMIC-III with the removal of patient identifiers in accordance with the Health Insurance Portability and Accountability Act (HIPAA)."
   ]
  },
  {
   "cell_type": "markdown",
   "metadata": {},
   "source": [
    "**Disclaimer:** \n",
    "\n",
    "The data provided in the `data/` directory is a modified version of the original, which was previously downloaded from MIMIC-IV's data repository. This was done because this data set is semi-restricted. This means that while this dataset is open to all researchers, one must first go through a credentialing process via [PhysioNet](https://physionet.org/settings/credentialing/) and signing a user agreement prior to being granted access.\n",
    "\n",
    "The credentialing exists to educate the researcher on responsible data handling of patient health data and Health Insurance Portability and Accountability Act (HIPAA) regulations.\n",
    "\n",
    "**All `subject_id` and `hadm_id` have been prgrammatically offset by some number to further preserve the anonymity of the patient data.**"
   ]
  },
  {
   "cell_type": "markdown",
   "metadata": {},
   "source": [
    "# Demo\n",
    "We will be working mainly with PySpark for this project (though it very likely can also be done using exclusively pandas or numpy).\n",
    "\n",
    "Import Spark:"
   ]
  },
  {
   "cell_type": "code",
   "execution_count": 1,
   "metadata": {},
   "outputs": [],
   "source": [
    "from pyspark.sql import SparkSession\n",
    "\n",
    "spark = SparkSession.builder.appName(\"PatientData\").getOrCreate()"
   ]
  },
  {
   "cell_type": "markdown",
   "metadata": {},
   "source": [
    "## PREPROCESSING THE DATA: \n",
    "\n",
    "Preprocessing steps:\n",
    "\n",
    "1. Load in patient diagnoses data\n",
    "2. Load in table for ICD codes, which give meaning and to the diagnoses data and helps us better target the disease we are looking for, in this case leukemia.\n",
    "3. Filter the patient dataframe to include only the hospital stays (`hadm_id`) that involve leukemia, that is to say the rows that match the `icd_code` for leukemia. Save a list of these hospital stays.\n",
    "4. Go through the train and validation sets and create a new 'label' column in the patient dataframe. The rows that match the `hadm_id` in the previously saved list and tag them with a 1. The rows that do not have a `hadm_id` match will be tagged with a 0, indicating that the hospital stay did not involve leukemia.\n",
    "\n",
    "Luckily this dataset is already quite clean and organized being that it is structured data so there isn't much to do in regards to data cleansing."
   ]
  },
  {
   "cell_type": "markdown",
   "metadata": {},
   "source": [
    "## Importing the Data\n",
    "import the patient data from diagnoses_icd.csv as another dataframe."
   ]
  },
  {
   "cell_type": "code",
   "execution_count": 2,
   "metadata": {},
   "outputs": [],
   "source": [
    "patients_df = spark.read.options(header='True', inferSchema='True') \\\n",
    "     .csv(\"data/diagnoses_icd_demo.csv\")"
   ]
  },
  {
   "cell_type": "markdown",
   "metadata": {},
   "source": [
    "Here are a few lines from the patients DataFrame:"
   ]
  },
  {
   "cell_type": "code",
   "execution_count": 3,
   "metadata": {},
   "outputs": [
    {
     "name": "stdout",
     "output_type": "stream",
     "text": [
      "+-------+----------+--------+-------+--------+-----------+\n",
      "|    _c0|subject_id| hadm_id|seq_num|icd_code|icd_version|\n",
      "+-------+----------+--------+-------+--------+-----------+\n",
      "|2670103|  18648634|21909546|      2|    E861|         10|\n",
      "|2670104|  18648634|21909546|      5|  O99512|         10|\n",
      "|2670105|  18648634|21909546|      6|  J45909|         10|\n",
      "|2670106|  18648634|21909546|      1|  O99612|         10|\n",
      "|2670107|  18648634|21909546|      7|  O99282|         10|\n",
      "|2670108|  18648634|21909546|      4|    R931|         10|\n",
      "|2670109|  18648634|21909546|      3|    A084|         10|\n",
      "|2782876|  11896075|21596984|      1|   O4292|         10|\n",
      "|2782877|  11896075|21596984|      6|   Z3A40|         10|\n",
      "|2782878|  11896075|21596984|      2|    E039|         10|\n",
      "+-------+----------+--------+-------+--------+-----------+\n",
      "only showing top 10 rows\n",
      "\n"
     ]
    }
   ],
   "source": [
    "patients_df.show(10)"
   ]
  },
  {
   "cell_type": "markdown",
   "metadata": {},
   "source": [
    "Here is the schema for reference:"
   ]
  },
  {
   "cell_type": "code",
   "execution_count": 4,
   "metadata": {},
   "outputs": [
    {
     "name": "stdout",
     "output_type": "stream",
     "text": [
      "root\n",
      " |-- _c0: integer (nullable = true)\n",
      " |-- subject_id: integer (nullable = true)\n",
      " |-- hadm_id: integer (nullable = true)\n",
      " |-- seq_num: integer (nullable = true)\n",
      " |-- icd_code: string (nullable = true)\n",
      " |-- icd_version: integer (nullable = true)\n",
      "\n"
     ]
    }
   ],
   "source": [
    "patients_df.printSchema()"
   ]
  },
  {
   "cell_type": "markdown",
   "metadata": {},
   "source": [
    "# Overview of the Data\n",
    "\n",
    "Directly from MIMIC-IV's documentation for diagnoses_icd.csv:\n",
    "\n",
    "## Detailed Description\n",
    "\n",
    "### `subject_id`\n",
    "\n",
    "subject_id is a unique identifier which specifies an individual patient. Any rows associated with a single subject_id pertain to the same individual.\n",
    "\n",
    "### `hadm_id`\n",
    "\n",
    "hadm_id is an integer identifier which is unique for each patient hospitalization.\n",
    "\n",
    "### `seq_num`\n",
    "\n",
    "The priority assigned to the diagnoses. The priority can be interpreted as a ranking of which diagnoses are “important”, but many caveats to this broad statement exist. For example, patients who are diagnosed with sepsis must have sepsis as their 2nd billed condition. The 1st billed condition must be the infectious agent. There’s also less importance placed on ranking low priority diagnoses “correctly” (as there may be no correct ordering of the priority of the 5th - 10th diagnosis codes, for example).\n",
    "\n",
    "### `icd_code, icd_version`\n",
    "\n",
    "icd_code is the International Coding Definitions (ICD) code.\n",
    "\n",
    "source: https://mimic-iv.mit.edu/docs/datasets/hosp/diagnoses_icd/"
   ]
  },
  {
   "cell_type": "markdown",
   "metadata": {},
   "source": [
    "There are two versions for this coding system: version 9 (ICD-9) and version 10 (ICD-10). These can be differentiated using the icd_version column. In general, ICD-10 codes are more detailed, though code mappings (or “cross-walks”) exist which convert ICD-9 codes to ICD-10 codes.\n",
    "\n",
    "Both ICD-9 and ICD-10 codes are often presented with a decimal. This decimal is not required for interpretation of an ICD code; i.e. the icd_code of ‘0010’ is equivalent to ‘001.0’."
   ]
  },
  {
   "cell_type": "markdown",
   "metadata": {},
   "source": [
    "There exists both ICD 9 and ICD 10 codes within the dataset. However, in this demo, I filtered out the ICD 9 data. While the reduction in data could potentially negatively affect the results, the act of including all the ICD 9 data may increase project runtime, computational resources, and complexity.\n",
    "\n",
    "Since this is mostly a proof of concept, I will filter the table down to only rows that contain ICD 10 codes.\n",
    "\n",
    "In the case that you do run into a dataset that contains multiple ICD code versions, filter it down like so."
   ]
  },
  {
   "cell_type": "code",
   "execution_count": 8,
   "metadata": {},
   "outputs": [
    {
     "name": "stdout",
     "output_type": "stream",
     "text": [
      "+-------+----------+--------+-------+--------+-----------+\n",
      "|    _c0|subject_id| hadm_id|seq_num|icd_code|icd_version|\n",
      "+-------+----------+--------+-------+--------+-----------+\n",
      "|2670103|  18648634|21909546|      2|    E861|         10|\n",
      "|2670104|  18648634|21909546|      5|  O99512|         10|\n",
      "|2670105|  18648634|21909546|      6|  J45909|         10|\n",
      "|2670106|  18648634|21909546|      1|  O99612|         10|\n",
      "|2670107|  18648634|21909546|      7|  O99282|         10|\n",
      "|2670108|  18648634|21909546|      4|    R931|         10|\n",
      "|2670109|  18648634|21909546|      3|    A084|         10|\n",
      "|2782876|  11896075|21596984|      1|   O4292|         10|\n",
      "|2782877|  11896075|21596984|      6|   Z3A40|         10|\n",
      "|2782878|  11896075|21596984|      2|    E039|         10|\n",
      "+-------+----------+--------+-------+--------+-----------+\n",
      "only showing top 10 rows\n",
      "\n"
     ]
    }
   ],
   "source": [
    "icd_10_patients_df = patients_df.filter(patients_df.icd_version == 10)\n",
    "icd_10_patients_df.show(10)"
   ]
  },
  {
   "cell_type": "markdown",
   "metadata": {},
   "source": [
    "## Importing ICD code definitions\n",
    "- load in the table\n",
    "- filter the table to ICD 10 codes\n",
    "- extract a list of codes that specifically refer to our target diagnosis, leukemia"
   ]
  },
  {
   "cell_type": "code",
   "execution_count": 9,
   "metadata": {},
   "outputs": [],
   "source": [
    "diagnoses_def_df = spark.read.options(header='True', inferSchema='True') \\\n",
    "     .csv(\"data/d_icd_diagnoses.csv\")"
   ]
  },
  {
   "cell_type": "markdown",
   "metadata": {},
   "source": [
    "Since we are only use ICD 10 codes, we can also filter this table down:"
   ]
  },
  {
   "cell_type": "code",
   "execution_count": 87,
   "metadata": {},
   "outputs": [],
   "source": [
    "diagnoses_icd_10_def = diagnoses_def_df.filter(\n",
    "    diagnoses_def_df.icd_version == 10\n",
    ")\n",
    "\n",
    "diagnoses_icd_10_def = diagnoses_icd_10_def \\\n",
    ".withColumnRenamed(\"long_title\", \"definition\")"
   ]
  },
  {
   "cell_type": "markdown",
   "metadata": {},
   "source": [
    "Here is one example of an ICD code definition:"
   ]
  },
  {
   "cell_type": "code",
   "execution_count": 88,
   "metadata": {},
   "outputs": [
    {
     "data": {
      "text/plain": [
       "Row(icd_code='B5741', icd_version=10, definition=\"Meningitis in Chagas' disease\")"
      ]
     },
     "execution_count": 88,
     "metadata": {},
     "output_type": "execute_result"
    }
   ],
   "source": [
    "diagnoses_icd_10_def.head()"
   ]
  },
  {
   "cell_type": "markdown",
   "metadata": {},
   "source": [
    "Now, let's search for a disease (or diseases) that we want to focus on.\n",
    "\n",
    "In this case, we are selecting leukemia as our target diagnosis.\n",
    "\n",
    "Import the d_icd_diagnoses.csv as a dataframe and find the icd_codes that include references to 'leukemia' or 'leukemic':"
   ]
  },
  {
   "cell_type": "code",
   "execution_count": 12,
   "metadata": {},
   "outputs": [],
   "source": [
    "# Get codes for our desired diagnosis or disease\n",
    "leukemia_codes_df = diagnoses_icd_10_def.filter(\n",
    "    diagnoses_icd_10_def.long_title.contains('leukemia') |\n",
    "    diagnoses_icd_10_def.long_title.contains('leukemic')\n",
    ") \\\n",
    ".select('icd_version', 'icd_code') \\\n",
    ".orderBy('icd_version') \\\n",
    ".distinct()"
   ]
  },
  {
   "cell_type": "code",
   "execution_count": 13,
   "metadata": {},
   "outputs": [
    {
     "name": "stdout",
     "output_type": "stream",
     "text": [
      "+-----------+--------+\n",
      "|icd_version|icd_code|\n",
      "+-----------+--------+\n",
      "|         10|   C93Z1|\n",
      "|         10|    C951|\n",
      "|         10|   C9111|\n",
      "|         10|    C914|\n",
      "|         10|   C9310|\n",
      "|         10|    C929|\n",
      "|         10|   C9102|\n",
      "|         10|   C91Z0|\n",
      "|         10|   C9130|\n",
      "|         10|    C911|\n",
      "+-----------+--------+\n",
      "only showing top 10 rows\n",
      "\n",
      "There are 126 codes relating to leukemia.\n"
     ]
    }
   ],
   "source": [
    "leukemia_codes_df.show(10)\n",
    "print(\"There are\",leukemia_codes_df.count(), \"codes relating to leukemia.\")"
   ]
  },
  {
   "cell_type": "markdown",
   "metadata": {},
   "source": [
    "Save these codes as a Python list:"
   ]
  },
  {
   "cell_type": "code",
   "execution_count": 14,
   "metadata": {
    "scrolled": true
   },
   "outputs": [
    {
     "name": "stdout",
     "output_type": "stream",
     "text": [
      "['C93Z1', 'C951', 'C9111', 'C914', 'C9310', 'C929', 'C9102', 'C91Z0', 'C9130', 'C911', 'C9252', 'C91', 'C92Z1', 'C9110', 'C9132', 'C933', 'C9202', 'C92A1', 'C9161', 'C9152', 'C924', 'C9421', 'C9151', 'C9261', 'C92A', 'C9190', 'C9011', 'C931', 'C91Z2', 'C93Z', 'C9302', 'C9250', 'C9332', 'C9301', 'C9311', 'C9012', 'C9131', 'C9150', 'C9210', 'C922', 'C919', 'C9221', 'C9262', 'C9220', 'C9100', 'C9212', 'C9420', 'C92', 'C91Z1', 'C9160', 'C940', 'C901', 'C9312', 'C9400', 'C925', 'C9241', 'C9010', 'C910', 'C9292', 'C9201', 'C91A1', 'C930', 'C9290', 'C93', 'C921', 'C9242', 'C9402', 'C926', 'C9200', 'C94', 'C92Z2', 'C92A2', 'C92Z0', 'C9141', 'C92Z', 'C9391', 'C9260', 'C9422', 'C920', 'C9331', 'C9501', 'C9481', 'C9192', 'C91A0', 'C9510', 'C91A2', 'C948', 'C9191', 'C9502', 'C9511', 'C913', 'C9432', 'C9251', 'C939', 'C9140', 'C950', 'C91A', 'C93Z2', 'C943', 'C915', 'C9300', 'C9330', 'Z856', 'C9392', 'C9512', 'C9240', 'C9431', 'C9480', 'Z806', 'C9112', 'C92A0', 'C916', 'C9430', 'C9482', 'C9222', 'C9390', 'C93Z0', 'C9211', 'C9500', 'C91Z', 'C942', 'C9142', 'C9101', 'C9291', 'C9401', 'C9162']\n"
     ]
    }
   ],
   "source": [
    "leukemia_codes = leukemia_codes_df.select(\"icd_code\").collect()\n",
    "\n",
    "leukemia_codes_list = [row[0] for row in leukemia_codes]\n",
    "print(leukemia_codes_list)"
   ]
  },
  {
   "cell_type": "markdown",
   "metadata": {},
   "source": [
    "Now, extract hospital stay IDs that contain these codes from the original patient dataframe:"
   ]
  },
  {
   "cell_type": "code",
   "execution_count": 15,
   "metadata": {},
   "outputs": [],
   "source": [
    "import pyspark.sql.functions as F\n",
    "\n",
    "# filter DF to only have hadm_id's related to leukemia\n",
    "hadm_id_df = icd_10_patients_df.filter(\n",
    "    F.col(\"icd_code\").isin(leukemia_codes_list))\n",
    "\n",
    "# Return the rows\n",
    "hadm_ids = hadm_id_df.select(\"hadm_id\").collect()\n",
    "\n",
    "# extract hadm_id from rows\n",
    "hadm_ids_list = [row[0] for row in hadm_ids]"
   ]
  },
  {
   "cell_type": "code",
   "execution_count": 16,
   "metadata": {},
   "outputs": [],
   "source": [
    "from pyspark.sql.functions import udf\n",
    "from pyspark.sql import types as T\n",
    "\n",
    "# UDF to tag row, based on match with hadm_id\n",
    "def setIdLabels(match_list, hadm_id):\n",
    "    if hadm_id in match_list:\n",
    "        return \"true\"\n",
    "    else:\n",
    "        return \"false\"\n",
    "\n",
    "setIdLabelsUDF = udf(lambda x: setIdLabels(hadm_ids_list, x))"
   ]
  },
  {
   "cell_type": "code",
   "execution_count": 17,
   "metadata": {},
   "outputs": [],
   "source": [
    "# adding a column \"match\" to designate if hospital stay involved leukemia\n",
    "patients_df_tagged = icd_10_patients_df.withColumn(\n",
    "    \"match\",\n",
    "    setIdLabelsUDF(icd_10_patients_df.hadm_id)\n",
    ")"
   ]
  },
  {
   "cell_type": "code",
   "execution_count": 18,
   "metadata": {},
   "outputs": [
    {
     "name": "stdout",
     "output_type": "stream",
     "text": [
      "+-------+----------+--------+-------+--------+-----------+-----+\n",
      "|    _c0|subject_id| hadm_id|seq_num|icd_code|icd_version|match|\n",
      "+-------+----------+--------+-------+--------+-----------+-----+\n",
      "|2984586|  19685388|20658431|      1|   C9152|         10| true|\n",
      "|2984587|  19685388|20658431|     24|   R1310|         10| true|\n",
      "|2984588|  19685388|20658431|     29| T17998A|         10| true|\n",
      "|2984589|  19685388|20658431|     16|     R21|         10| true|\n",
      "|2984590|  19685388|20658431|     26|    Z781|         10| true|\n",
      "|2984591|  19685388|20658431|     21|   E8351|         10| true|\n",
      "|2984592|  19685388|20658431|      2|   J9601|         10| true|\n",
      "|2984593|  19685388|20658431|     19|    R531|         10| true|\n",
      "|2984594|  19685388|20658431|      5|    K521|         10| true|\n",
      "|2984595|  19685388|20658431|      4|  D61818|         10| true|\n",
      "+-------+----------+--------+-------+--------+-----------+-----+\n",
      "only showing top 10 rows\n",
      "\n"
     ]
    }
   ],
   "source": [
    "# proof the labeling worked\n",
    "patients_df_tagged.filter(patients_df_tagged.match == \"true\").show(10)"
   ]
  },
  {
   "cell_type": "markdown",
   "metadata": {},
   "source": [
    "## Machine Learning\n",
    "\n",
    "Recalling the problem statement and overview of procedures, I would like to predict the subset of comorbidities given that a patient has leukemia. For this I implement a logistic regression model."
   ]
  },
  {
   "cell_type": "markdown",
   "metadata": {},
   "source": [
    "### Preprocessing Continued\n",
    "\n",
    "We need to do some feature engineering to establish our dependent and independent variables.\n",
    "\n",
    "The only variable(s) that matter are `seq_num` and `icd_code`. \n",
    "\n",
    "`subject_id`, `hadm_id`, and `icd_version` imbue no meaningful information since each subject and hospital admission is unique and are not useful in determining the probability of a comorbidity.\n",
    "\n",
    "Therefore, these columns will not be considered in engineering the `features` vector."
   ]
  },
  {
   "cell_type": "code",
   "execution_count": 19,
   "metadata": {},
   "outputs": [],
   "source": [
    "from pyspark.ml.feature import RFormula\n",
    "\n",
    "# Feature engineering\n",
    "rf = RFormula(formula=\"match ~ seq_num + icd_code\")  # Defining the transformation\n",
    "fittedRF = rf.fit(patients_df_tagged)  # Create \"trained\" version of transformer to use on data\n",
    "\n",
    "# Apply transformations patient df\n",
    "prepared_patient_df = fittedRF.transform(patients_df_tagged)"
   ]
  },
  {
   "cell_type": "markdown",
   "metadata": {},
   "source": [
    "Here is the dataframe with feature vectors for each row:"
   ]
  },
  {
   "cell_type": "code",
   "execution_count": 20,
   "metadata": {},
   "outputs": [
    {
     "name": "stdout",
     "output_type": "stream",
     "text": [
      "+-------+--------+-----+-----+--------------------------+\n",
      "|seq_num|icd_code|match|label|features                  |\n",
      "+-------+--------+-----+-----+--------------------------+\n",
      "|2      |E861    |false|0.0  |(12581,[0,100],[2.0,1.0]) |\n",
      "|5      |O99512  |false|0.0  |(12581,[0,2951],[5.0,1.0])|\n",
      "|6      |J45909  |false|0.0  |(12581,[0,15],[6.0,1.0])  |\n",
      "|1      |O99612  |false|0.0  |(12581,[0,3168],[1.0,1.0])|\n",
      "|7      |O99282  |false|0.0  |(12581,[0,3961],[7.0,1.0])|\n",
      "|4      |R931    |false|0.0  |(12581,[0,3616],[4.0,1.0])|\n",
      "|3      |A084    |false|0.0  |(12581,[0,407],[3.0,1.0]) |\n",
      "|1      |O4292   |false|0.0  |(12581,[0,919],[1.0,1.0]) |\n",
      "|6      |Z3A40   |false|0.0  |(12581,[0,269],[6.0,1.0]) |\n",
      "|2      |E039    |false|0.0  |(12581,[0,13],[2.0,1.0])  |\n",
      "+-------+--------+-----+-----+--------------------------+\n",
      "only showing top 10 rows\n",
      "\n"
     ]
    }
   ],
   "source": [
    "prepared_patient_df.select(\n",
    "    \"seq_num\",\n",
    "    \"icd_code\",\n",
    "    \"match\",\n",
    "    \"label\",\n",
    "    \"features\").show(10,False)"
   ]
  },
  {
   "cell_type": "markdown",
   "metadata": {},
   "source": [
    "Now that the dataset is vectorized, I split the data into training and testing sets using `df.randomSplit()`."
   ]
  },
  {
   "cell_type": "code",
   "execution_count": 21,
   "metadata": {},
   "outputs": [],
   "source": [
    "# Create train, validation, and test splits\n",
    "train, test = prepared_patient_df.randomSplit(\n",
    "    [0.7,0.3],30  # specify a seed as to maintain the same datasets\n",
    ")"
   ]
  },
  {
   "cell_type": "markdown",
   "metadata": {},
   "source": [
    "Instantiate the LogisticRegression model:"
   ]
  },
  {
   "cell_type": "code",
   "execution_count": 22,
   "metadata": {},
   "outputs": [],
   "source": [
    "from pyspark.ml.classification import LogisticRegression\n",
    "\n",
    "# Logical Regression\n",
    "lr = LogisticRegression(labelCol=\"label\",featuresCol=\"features\")\n",
    "\n",
    "fittedLR = lr.fit(train)  # Trained model"
   ]
  },
  {
   "cell_type": "markdown",
   "metadata": {},
   "source": [
    "Train the model using the training set:"
   ]
  },
  {
   "cell_type": "code",
   "execution_count": 23,
   "metadata": {},
   "outputs": [],
   "source": [
    "trainedLR = fittedLR.transform(train).select(\"label\", \"prediction\")"
   ]
  },
  {
   "cell_type": "markdown",
   "metadata": {},
   "source": [
    "Run the test set through the trained model:"
   ]
  },
  {
   "cell_type": "code",
   "execution_count": 24,
   "metadata": {},
   "outputs": [],
   "source": [
    "testLR = fittedLR.transform(test).select(\n",
    "    \"icd_code\",\n",
    "    \"label\",\n",
    "    \"rawPrediction\",\n",
    "    \"prediction\",\n",
    "    \"probability\"\n",
    ")"
   ]
  },
  {
   "cell_type": "code",
   "execution_count": 25,
   "metadata": {
    "scrolled": true
   },
   "outputs": [
    {
     "name": "stdout",
     "output_type": "stream",
     "text": [
      "Logistical Regression on Test dataset\n",
      "displaying codes that are predicted to appear alongside leukemia:\n",
      "+--------+-----+--------------------+----------+--------------------+\n",
      "|icd_code|label|       rawPrediction|prediction|         probability|\n",
      "+--------+-----+--------------------+----------+--------------------+\n",
      "|   C9152|  1.0|[-48.385491040684...|       1.0|[9.69277735118441...|\n",
      "|   C9200|  1.0|[-48.394986745827...|       1.0|[9.60117320673481...|\n",
      "|    Z574|  1.0|[-0.1130870783122...|       1.0|[0.47175832184120...|\n",
      "|   C9202|  1.0|[-48.435391869833...|       1.0|[9.22096942762875...|\n",
      "|   C9110|  1.0|[-48.671647940868...|       1.0|[7.28067883917669...|\n",
      "|   G5700|  1.0|[-0.4082706884934...|       1.0|[0.39932685000670...|\n",
      "|   C9110|  1.0|[-48.445097919420...|       1.0|[9.13190318105168...|\n",
      "|    T865|  0.0|[-0.1966090576413...|       1.0|[0.45100545816875...|\n",
      "|   C9210|  1.0|[-48.569026296151...|       1.0|[8.06751698027508...|\n",
      "|    T865|  0.0|[-0.2872290662204...|       1.0|[0.42868237246095...|\n",
      "+--------+-----+--------------------+----------+--------------------+\n",
      "only showing top 10 rows\n",
      "\n"
     ]
    }
   ],
   "source": [
    "print(\"Logistical Regression on Test dataset\")\n",
    "print(\"displaying codes that are predicted to appear alongside leukemia:\")\n",
    "testLR.filter(testLR.prediction == 1).show(10)"
   ]
  },
  {
   "cell_type": "markdown",
   "metadata": {},
   "source": [
    "- I chose to only display only rows where a prediction of 1 was made\n",
    "- this was done to demonstrate that the ML model successfully (and unsuccessfully) made predictions.\n",
    "- If the displayed DF was left unfiltered, we would only see labels = 0 and predictions = 0 because most of the beginning rows of the dataset were icd_codes that were unrelated to leukemia.\n",
    "\n",
    "Here is what I mean:"
   ]
  },
  {
   "cell_type": "code",
   "execution_count": 26,
   "metadata": {},
   "outputs": [
    {
     "name": "stdout",
     "output_type": "stream",
     "text": [
      "+--------+-----+--------------------+----------+--------------------+\n",
      "|icd_code|label|       rawPrediction|prediction|         probability|\n",
      "+--------+-----+--------------------+----------+--------------------+\n",
      "|  O99512|  0.0|[12.4188894259139...|       0.0|[0.99999595849522...|\n",
      "|  J45909|  0.0|[4.42854138208608...|       0.0|[0.98820881003454...|\n",
      "|  O99612|  0.0|[12.5594053902364...|       0.0|[0.99999648829506...|\n",
      "|  O99282|  0.0|[12.6394637151133...|       0.0|[0.99999675847596...|\n",
      "|   O4292|  0.0|[12.3554210707667...|       0.0|[0.99999569367367...|\n",
      "|  O99280|  0.0|[4.83194347050875...|       0.0|[0.99209201985603...|\n",
      "|  Z85828|  0.0|[3.64817034034879...|       0.0|[0.97462208146871...|\n",
      "| O321XX0|  0.0|[12.6290022248211...|       0.0|[0.99999672438690...|\n",
      "|   O1092|  0.0|[12.4051013330452...|       0.0|[0.99999590238487...|\n",
      "|    Z370|  0.0|[7.3103184428681,...|       0.0|[0.99933184262680...|\n",
      "+--------+-----+--------------------+----------+--------------------+\n",
      "only showing top 10 rows\n",
      "\n"
     ]
    }
   ],
   "source": [
    "testLR.show(10)"
   ]
  },
  {
   "cell_type": "markdown",
   "metadata": {},
   "source": [
    "## Evaluating the model\n",
    "\n",
    "To evaluate the model, we utilize `BinaryClassificationEvaluator` from `pyspark.ml` library. The evaluator evaluates the model by plotting events of True Positive Rate (TPR) against False Positive Rate (FPR).\n",
    "\n",
    "This evaluation results in an Receiver Operating Characteristics (ROC) curve, which can be plotted like so:"
   ]
  },
  {
   "cell_type": "code",
   "execution_count": 27,
   "metadata": {},
   "outputs": [
    {
     "data": {
      "image/png": "[encoded data removed]",
      "text/plain": [
       "<Figure size 360x360 with 1 Axes>"
      ]
     },
     "metadata": {
      "needs_background": "light"
     },
     "output_type": "display_data"
    }
   ],
   "source": [
    "import matplotlib.pyplot as plt\n",
    "\n",
    "plt.figure(figsize=(5,5))\n",
    "plt.plot([0, 1], [0, 1], 'r--')\n",
    "plt.plot(fittedLR.summary.roc.select('FPR').collect(),\n",
    "         fittedLR.summary.roc.select('TPR').collect())\n",
    "plt.xlabel('False Positive Rate')\n",
    "plt.ylabel('True Positive Rate')\n",
    "plt.show()"
   ]
  },
  {
   "cell_type": "markdown",
   "metadata": {},
   "source": [
    "The greater the area under the ROC curve, the better the model is at discerning whether a disease has shown up alongside leukemia."
   ]
  },
  {
   "cell_type": "code",
   "execution_count": 28,
   "metadata": {},
   "outputs": [
    {
     "name": "stdout",
     "output_type": "stream",
     "text": [
      "Area under ROC for model: 0.7947841669310771\n"
     ]
    }
   ],
   "source": [
    "summary = fittedLR.summary\n",
    "print(\"Area under ROC for model:\", summary.areaUnderROC)"
   ]
  },
  {
   "cell_type": "markdown",
   "metadata": {},
   "source": [
    "We can also get the area under ROC of our test data fed into the model."
   ]
  },
  {
   "cell_type": "code",
   "execution_count": 29,
   "metadata": {},
   "outputs": [
    {
     "name": "stdout",
     "output_type": "stream",
     "text": [
      "Test Area Under ROC: 0.7054346516722116\n"
     ]
    }
   ],
   "source": [
    "from pyspark.ml.evaluation import BinaryClassificationEvaluator\n",
    "\n",
    "evaluator = BinaryClassificationEvaluator()\n",
    "print(\"Test Area Under ROC:\", evaluator.evaluate(testLR))"
   ]
  },
  {
   "cell_type": "markdown",
   "metadata": {},
   "source": [
    "Calculating model accuracy:"
   ]
  },
  {
   "cell_type": "code",
   "execution_count": 30,
   "metadata": {},
   "outputs": [
    {
     "name": "stdout",
     "output_type": "stream",
     "text": [
      "Accuracy: 0.9806108473338203\n"
     ]
    }
   ],
   "source": [
    "accuracy = testLR.filter(\n",
    "    testLR.label == testLR.prediction).count() / float(testLR.count())\n",
    "\n",
    "print(\"Accuracy:\", accuracy)"
   ]
  },
  {
   "cell_type": "markdown",
   "metadata": {},
   "source": [
    "After calculating the model's accuracy, we should extract all of the `icd_codes` from the test dataset, because these will be our leukemia co-morbidities. Save this as a new dataframe.\n",
    "\n",
    "This is to simulate the results of a true test dataset (as opposed to our test set that had rows labeled already to check our accuracy)."
   ]
  },
  {
   "cell_type": "code",
   "execution_count": 37,
   "metadata": {},
   "outputs": [
    {
     "name": "stdout",
     "output_type": "stream",
     "text": [
      "+--------+\n",
      "|icd_code|\n",
      "+--------+\n",
      "|   C9152|\n",
      "|   C9200|\n",
      "|    Z574|\n",
      "|   C9202|\n",
      "|   C9110|\n",
      "|   G5700|\n",
      "|   C9110|\n",
      "|    T865|\n",
      "|   C9210|\n",
      "|    T865|\n",
      "+--------+\n",
      "only showing top 10 rows\n",
      "\n"
     ]
    }
   ],
   "source": [
    "# Extracting leukemia comorbidities from test data\n",
    "leukemia_comorbidities_df = testLR \\\n",
    ".filter(testLR.prediction == 1) \\\n",
    ".select(testLR.icd_code)\n",
    "\n",
    "leukemia_comorbidities_df.show(10)"
   ]
  },
  {
   "cell_type": "markdown",
   "metadata": {},
   "source": [
    "Let's aggregate the codes such that we get a count of each.\n",
    "\n",
    "This will help us see which conditions are most prevalent."
   ]
  },
  {
   "cell_type": "code",
   "execution_count": 45,
   "metadata": {},
   "outputs": [
    {
     "name": "stdout",
     "output_type": "stream",
     "text": [
      "+--------+-----+\n",
      "|icd_code|count|\n",
      "+--------+-----+\n",
      "|   C9110|   67|\n",
      "|    T865|   47|\n",
      "|  D89811|   36|\n",
      "|   C9200|   34|\n",
      "|    Z856|   23|\n",
      "|   C9201|   23|\n",
      "|    Z806|   19|\n",
      "|   C9202|   15|\n",
      "|   C9210|   14|\n",
      "|   C92Z0|   10|\n",
      "|  D89813|    9|\n",
      "|    D708|    8|\n",
      "|    H209|    7|\n",
      "|  D89810|    7|\n",
      "|   C92Z2|    6|\n",
      "|   K1230|    5|\n",
      "|   C9211|    5|\n",
      "|   C9010|    4|\n",
      "|   C92Z1|    4|\n",
      "|   C9111|    4|\n",
      "+--------+-----+\n",
      "only showing top 20 rows\n",
      "\n"
     ]
    }
   ],
   "source": [
    "from pyspark.sql.functions import desc\n",
    "\n",
    "diagnoses_count = leukemia_comorbidities_df.groupBy('icd_code').count()\n",
    "diagnoses_count = diagnoses_count.sort(desc('count'))\n",
    "diagnoses_count.show()"
   ]
  },
  {
   "cell_type": "markdown",
   "metadata": {},
   "source": [
    "However, this joined table still includes the `icd_codes` that explicitly refer to leukemia. \n",
    "\n",
    "We want to remove these specific because we only want co-morbidities.\n",
    "\n",
    "Therefore, I will filter them out."
   ]
  },
  {
   "cell_type": "code",
   "execution_count": 50,
   "metadata": {},
   "outputs": [
    {
     "name": "stdout",
     "output_type": "stream",
     "text": [
      "+--------+-----+\n",
      "|icd_code|count|\n",
      "+--------+-----+\n",
      "|    T865|   47|\n",
      "|  D89811|   36|\n",
      "|  D89813|    9|\n",
      "|    D708|    8|\n",
      "|  D89810|    7|\n",
      "|    H209|    7|\n",
      "|   K1230|    5|\n",
      "|   R5081|    3|\n",
      "|    L740|    3|\n",
      "|  I70492|    3|\n",
      "|    D709|    2|\n",
      "|    K045|    2|\n",
      "|   C8410|    2|\n",
      "|    L729|    2|\n",
      "|  D89812|    2|\n",
      "|    Z574|    2|\n",
      "| S42201D|    2|\n",
      "|    D703|    2|\n",
      "|   T8609|    2|\n",
      "|    I809|    2|\n",
      "+--------+-----+\n",
      "only showing top 20 rows\n",
      "\n"
     ]
    }
   ],
   "source": [
    "# filter out icd_codes that directly reference leukemia\n",
    "comorbidities_filtered = diagnoses_count \\\n",
    ".filter(diagnoses_count.icd_code.isin(leukemia_codes_list) == False)\n",
    "\n",
    "comorbidities_filtered.show()"
   ]
  },
  {
   "cell_type": "markdown",
   "metadata": {},
   "source": [
    "Then, create an inner join between this table and the icd-definitions table to better visualize which diseases/diagnoses often appear with leukemia. This will give us icd_code definitions."
   ]
  },
  {
   "cell_type": "code",
   "execution_count": 91,
   "metadata": {},
   "outputs": [
    {
     "data": {
      "text/plain": [
       "DataFrame[icd_code: string, count: bigint, icd_version: int, definition: string]"
      ]
     },
     "execution_count": 91,
     "metadata": {},
     "output_type": "execute_result"
    }
   ],
   "source": [
    "comorbidities_with_def = comorbidities_filtered \\\n",
    ".join(diagnoses_icd_10_def, ['icd_code']) \\  # left inner join by default\n",
    ".sort(desc('count'))"
   ]
  },
  {
   "cell_type": "code",
   "execution_count": 93,
   "metadata": {},
   "outputs": [
    {
     "data": {
      "text/plain": [
       "52"
      ]
     },
     "execution_count": 93,
     "metadata": {},
     "output_type": "execute_result"
    }
   ],
   "source": [
    "# Number of distinct comorbidities, given the test set\n",
    "comorbidities_with_def.count()"
   ]
  },
  {
   "cell_type": "markdown",
   "metadata": {},
   "source": [
    "Here are the most common codiagnoses found with \"leukemia\" (found within the test data set)."
   ]
  },
  {
   "cell_type": "code",
   "execution_count": 101,
   "metadata": {},
   "outputs": [
    {
     "name": "stdout",
     "output_type": "stream",
     "text": [
      "+--------+-----+-----------+--------------------+\n",
      "|icd_code|count|icd_version|          definition|\n",
      "+--------+-----+-----------+--------------------+\n",
      "|    T865|   47|         10|Complications of ...|\n",
      "|  D89811|   36|         10|Chronic graft-ver...|\n",
      "|  D89813|    9|         10|Graft-versus-host...|\n",
      "|    D708|    8|         10|   Other neutropenia|\n",
      "|  D89810|    7|         10|Acute graft-versu...|\n",
      "|    H209|    7|         10|Unspecified irido...|\n",
      "+--------+-----+-----------+--------------------+\n",
      "\n"
     ]
    }
   ],
   "source": [
    "top_comorbidities = comorbidities_with_def.filter(F.col(\"count\") > 5)\n",
    "top_comorbidities.show()"
   ]
  },
  {
   "cell_type": "markdown",
   "metadata": {},
   "source": [
    "Plot this data as a bar graph:"
   ]
  },
  {
   "cell_type": "code",
   "execution_count": 102,
   "metadata": {},
   "outputs": [],
   "source": [
    "top_pd = top_comorbidities.toPandas()"
   ]
  },
  {
   "cell_type": "code",
   "execution_count": 103,
   "metadata": {},
   "outputs": [
    {
     "data": {
      "image/png": "[encoded data removed]",
      "text/plain": [
       "<Figure size 432x288 with 1 Axes>"
      ]
     },
     "metadata": {
      "needs_background": "light"
     },
     "output_type": "display_data"
    }
   ],
   "source": [
    "ax = top_pd.plot.bar(x='icd_code', y='count', rot=0)"
   ]
  },
  {
   "cell_type": "markdown",
   "metadata": {},
   "source": [
    "Finally, we can export the table of comorbidities as a .csv file for future reference."
   ]
  },
  {
   "cell_type": "code",
   "execution_count": 95,
   "metadata": {},
   "outputs": [],
   "source": [
    "comorbidities_pd_df = comorbidities_with_def.toPandas()"
   ]
  },
  {
   "cell_type": "code",
   "execution_count": 96,
   "metadata": {},
   "outputs": [],
   "source": [
    "comorbidities_pd_df.to_csv('leukemia_codiagnoses.csv')"
   ]
  },
  {
   "cell_type": "markdown",
   "metadata": {},
   "source": [
    "## Summary\n",
    "\n",
    "Via the Pyspark.ml library, we were able to train a logistic regression model that is able to produce a subset of co-diagnoses based on International Coding Definitions (ICD) codes, given a robust training set and a precise target diagnosis. Here, we used the target diagnosis of leukemia. The most common ones involved stem cell transplant complications and graft complications (like graft-versus-host disease).\n",
    "\n",
    "This makes sense because bone marrow (stem cell) transplants are a common treatment to fight leukemia. However, it is an invasive and painful procedure that can result in complications for the patient.\n",
    "\n",
    "## Challenges/Limitations\n",
    "- The model is only as good as the available data\n",
    "    - It's possible the prediction accuracy is only high because the test set is a subset of the training set (despite technically never seeing the test set)\n",
    "    - The data is reflective of patients of a certain population demographic. There is no guarantee that this model will reliably predict a different set of patient data\n",
    "- The model may work better for certain target disease than others\n",
    "    - for example, some diseases have very common and clear-cut co-diagnoses (think COVID-19 and pneumonia and lung tissue scarring), while others are not so clear\n",
    "\n",
    "## Future Considerations\n",
    "- It would be interesting to see how this model would improve or worsen if given a larger, broader set of patient data\n",
    "- the overall accuracy for specific demographics may potentially decrease because the model was exposed to so many geographical demographics\n",
    "- on the other hand, model as a whole might be more accurate for a diverse population since it it's less specialized for one specific demographic\n",
    "\n",
    "### References:\n",
    "MIMIC-IV Dataset and Documentation:\n",
    "\n",
    "https://mimic-iv.mit.edu\n",
    "https://mimic-iv.mit.edu/docs\n",
    "\n",
    "\n",
    "Pyspark BinaryClassifcation Evaluator:\n",
    "\n",
    "https://spark.apache.org/docs/latest/api/python/reference/api/pyspark.ml.evaluation.BinaryClassificationEvaluator.html\n",
    "\n",
    "Overview of Leukemia and Common Treatments:\n",
    "\n",
    "https://www.mayoclinic.org/diseases-conditions/leukemia/diagnosis-treatment/drc-20374378"
   ]
  },
  {
   "cell_type": "code",
   "execution_count": null,
   "metadata": {},
   "outputs": [],
   "source": []
  }
 ],
 "metadata": {
  "kernelspec": {
   "display_name": "Python 3",
   "language": "python",
   "name": "python3"
  },
  "language_info": {
   "codemirror_mode": {
    "name": "ipython",
    "version": 3
   },
   "file_extension": ".py",
   "mimetype": "text/x-python",
   "name": "python",
   "nbconvert_exporter": "python",
   "pygments_lexer": "ipython3",
   "version": "3.8.5"
  }
 },
 "nbformat": 4,
 "nbformat_minor": 5
}
